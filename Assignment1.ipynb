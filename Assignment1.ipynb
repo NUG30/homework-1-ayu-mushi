{
  "nbformat": 4,
  "nbformat_minor": 0,
  "metadata": {
    "colab": {
      "name": "Assignment1.ipynb",
      "provenance": [],
      "collapsed_sections": [],
      "include_colab_link": true
    },
    "kernelspec": {
      "name": "python3",
      "display_name": "Python 3"
    }
  },
  "cells": [
    {
      "cell_type": "markdown",
      "metadata": {
        "id": "view-in-github",
        "colab_type": "text"
      },
      "source": [
        "<a href=\"https://colab.research.google.com/github/NUG30/homework-1-ayu-mushi/blob/main/Assignment1.ipynb\" target=\"_parent\"><img src=\"https://colab.research.google.com/assets/colab-badge.svg\" alt=\"Open In Colab\"/></a>"
      ]
    },
    {
      "cell_type": "markdown",
      "metadata": {
        "id": "6cRdXGYzOlil"
      },
      "source": [
        "# Homework 1: Introduction to Python and NumPy\n",
        "\n",
        "In this homework, we will learn to do some basic linear algebra (and other numeric) computations using the Python programming language and the NumPy library. First, we want to _import_ the NumPy and Matplotlib libraries, which we will use throughout the homework. You must execute the following code block before you execute any other code in this file."
      ]
    },
    {
      "cell_type": "code",
      "metadata": {
        "id": "VW0xyjK3Rwj1"
      },
      "source": [
        "import numpy as np\n",
        "import matplotlib.pyplot as plt"
      ],
      "execution_count": 219,
      "outputs": []
    },
    {
      "cell_type": "markdown",
      "metadata": {
        "id": "pNoAykUSQj74"
      },
      "source": [
        "## Example 1: adding two matrices\n",
        "In linear algebra, you learned that adding matrices is easy. To add a matrix $A$ and $B$, you just perform addition component-wise. You cannot, however, add \n",
        "two matrices of different dimensions.\n",
        "\n",
        "In NumPy, matrices are represented as `numpy.array` (for those familiar with computer programming, this name might be misleading). Let us create a $2 \\times 3$ matrix in NumPy as an example:"
      ]
    },
    {
      "cell_type": "code",
      "metadata": {
        "id": "2Metmv13RVE0",
        "outputId": "fb1e7fd3-b3d2-49a0-d40a-af921fc29146",
        "colab": {
          "base_uri": "https://localhost:8080/",
          "height": 51
        }
      },
      "source": [
        "np.array([[1, 2, 3],\n",
        "          [4, 5, 6]])"
      ],
      "execution_count": 220,
      "outputs": [
        {
          "output_type": "execute_result",
          "data": {
            "text/plain": [
              "array([[1, 2, 3],\n",
              "       [4, 5, 6]])"
            ]
          },
          "metadata": {
            "tags": []
          },
          "execution_count": 220
        }
      ]
    },
    {
      "cell_type": "markdown",
      "metadata": {
        "id": "Ni_Y0wQ3R9kZ"
      },
      "source": [
        "Try changing the dimensions of the matrix and add more (or remove some) elements to the matrix above!"
      ]
    },
    {
      "cell_type": "markdown",
      "metadata": {
        "id": "tJb1n1cRSI0x"
      },
      "source": [
        "Next, we move on to adding two matrices. We want to add each component of the matrices one by one, so we use a _loop_ to accomplish it. "
      ]
    },
    {
      "cell_type": "code",
      "metadata": {
        "id": "h7ampMjdSHAH"
      },
      "source": [
        "def matrix_add(A, B):\n",
        "  # create a new array with the same dimensions to hold the result\n",
        "  M = np.empty(A.shape)\n",
        "  # get the height of the array\n",
        "  m = len(A)\n",
        "  # iterate through each row\n",
        "  for i in range(m):\n",
        "    # get the size of the i-th row\n",
        "    n = len(A[i])\n",
        "    # then iterate the row\n",
        "    for j in range(n):\n",
        "      M[i][j] = A[i][j] + B[i][j]\n",
        "  \n",
        "  # return the final result\n",
        "  # never forget to RETURN the result of your computation!\n",
        "  return M"
      ],
      "execution_count": 221,
      "outputs": []
    },
    {
      "cell_type": "markdown",
      "metadata": {
        "id": "iQ6CfUG1UmmX"
      },
      "source": [
        "We have defined a _function_ `matrix_add` that takes two arguments, $A$ and $B$, which should be matrices of the same size, and _returns_ the result of the addition. We can run the function to check if our function is correct:"
      ]
    },
    {
      "cell_type": "code",
      "metadata": {
        "id": "7r6huvDmUl8f",
        "outputId": "6cd2eed5-0b4d-43db-852f-a040af1af8a1",
        "colab": {
          "base_uri": "https://localhost:8080/",
          "height": 51
        }
      },
      "source": [
        "A = np.array([[1, 2, 3],\n",
        "              [4, 5, 6]])\n",
        "B = np.array([[2, 3, 4],\n",
        "              [5, 6, 7]])\n",
        "\n",
        "matrix_add(A, B)"
      ],
      "execution_count": 222,
      "outputs": [
        {
          "output_type": "execute_result",
          "data": {
            "text/plain": [
              "array([[ 3.,  5.,  7.],\n",
              "       [ 9., 11., 13.]])"
            ]
          },
          "metadata": {
            "tags": []
          },
          "execution_count": 222
        }
      ]
    },
    {
      "cell_type": "code",
      "metadata": {
        "id": "yuGRrAYxXZMI",
        "outputId": "d1128012-4105-4923-c39f-519f5b5c8c45",
        "colab": {
          "base_uri": "https://localhost:8080/",
          "height": 34
        }
      },
      "source": [
        "np.array([[1,2,3],[4,5,6]]).shape"
      ],
      "execution_count": 223,
      "outputs": [
        {
          "output_type": "execute_result",
          "data": {
            "text/plain": [
              "(2, 3)"
            ]
          },
          "metadata": {
            "tags": []
          },
          "execution_count": 223
        }
      ]
    },
    {
      "cell_type": "markdown",
      "metadata": {
        "id": "vMZA7idOVRKj"
      },
      "source": [
        "However, there is a flaw in this function! If we give it two matrices of different sizes, the function will fail mysteriously. Try changing the code above to observe what happens. For this reason, we might want to check beforehand that $A$ and $B$ have the same dimensions, and if they do not, we want to be informed that the input is invalid. To do this, we can use a _conditional statement_ to check if they have the same dimensions, and _throw an exception_ if they do not:"
      ]
    },
    {
      "cell_type": "code",
      "metadata": {
        "id": "sry171hSWE2D"
      },
      "source": [
        "def matrix_add_improved(A, B):\n",
        "  # check that A and B have the same shape\n",
        "  if (A.shape != B.shape):\n",
        "    # if not, then raise an exception\n",
        "    raise Exception(\"Cannot add matrices of different dimensions!\")\n",
        "\n",
        "  M = np.empty(A.shape)\n",
        "  m = len(A)\n",
        "  for i in range(m):\n",
        "    n = len(A[i])\n",
        "    for j in range(n):\n",
        "      M[i][j] = A[i][j] + B[i][j]\n",
        "  \n",
        "  return M"
      ],
      "execution_count": 224,
      "outputs": []
    },
    {
      "cell_type": "markdown",
      "metadata": {
        "id": "6PdDsDgLWUxn"
      },
      "source": [
        "Now, when we attempt to add matrices of different dimensions, we will receive an error that tells us precisely so:"
      ]
    },
    {
      "cell_type": "code",
      "metadata": {
        "id": "8lZ2nR8eWjUK",
        "outputId": "84efccaf-1a0b-4642-9962-5e759cc9bbda",
        "colab": {
          "base_uri": "https://localhost:8080/",
          "height": 317
        }
      },
      "source": [
        "A = np.array([[1, 2],\n",
        "              [3, 4]])\n",
        "B = np.array([[1, 2, 3],\n",
        "              [4, 5, 6]])\n",
        "\n",
        "matrix_add_improved(A, B)"
      ],
      "execution_count": 225,
      "outputs": [
        {
          "output_type": "error",
          "ename": "Exception",
          "evalue": "ignored",
          "traceback": [
            "\u001b[0;31m---------------------------------------------------------------------------\u001b[0m",
            "\u001b[0;31mException\u001b[0m                                 Traceback (most recent call last)",
            "\u001b[0;32m<ipython-input-225-c31c64477c8e>\u001b[0m in \u001b[0;36m<module>\u001b[0;34m()\u001b[0m\n\u001b[1;32m      4\u001b[0m               [4, 5, 6]])\n\u001b[1;32m      5\u001b[0m \u001b[0;34m\u001b[0m\u001b[0m\n\u001b[0;32m----> 6\u001b[0;31m \u001b[0mmatrix_add_improved\u001b[0m\u001b[0;34m(\u001b[0m\u001b[0mA\u001b[0m\u001b[0;34m,\u001b[0m \u001b[0mB\u001b[0m\u001b[0;34m)\u001b[0m\u001b[0;34m\u001b[0m\u001b[0;34m\u001b[0m\u001b[0m\n\u001b[0m",
            "\u001b[0;32m<ipython-input-224-84503ee20f0f>\u001b[0m in \u001b[0;36mmatrix_add_improved\u001b[0;34m(A, B)\u001b[0m\n\u001b[1;32m      3\u001b[0m   \u001b[0;32mif\u001b[0m \u001b[0;34m(\u001b[0m\u001b[0mA\u001b[0m\u001b[0;34m.\u001b[0m\u001b[0mshape\u001b[0m \u001b[0;34m!=\u001b[0m \u001b[0mB\u001b[0m\u001b[0;34m.\u001b[0m\u001b[0mshape\u001b[0m\u001b[0;34m)\u001b[0m\u001b[0;34m:\u001b[0m\u001b[0;34m\u001b[0m\u001b[0;34m\u001b[0m\u001b[0m\n\u001b[1;32m      4\u001b[0m     \u001b[0;31m# if not, then raise an exception\u001b[0m\u001b[0;34m\u001b[0m\u001b[0;34m\u001b[0m\u001b[0;34m\u001b[0m\u001b[0m\n\u001b[0;32m----> 5\u001b[0;31m     \u001b[0;32mraise\u001b[0m \u001b[0mException\u001b[0m\u001b[0;34m(\u001b[0m\u001b[0;34m\"Cannot add matrices of different dimensions!\"\u001b[0m\u001b[0;34m)\u001b[0m\u001b[0;34m\u001b[0m\u001b[0;34m\u001b[0m\u001b[0m\n\u001b[0m\u001b[1;32m      6\u001b[0m \u001b[0;34m\u001b[0m\u001b[0m\n\u001b[1;32m      7\u001b[0m   \u001b[0mM\u001b[0m \u001b[0;34m=\u001b[0m \u001b[0mnp\u001b[0m\u001b[0;34m.\u001b[0m\u001b[0mempty\u001b[0m\u001b[0;34m(\u001b[0m\u001b[0mA\u001b[0m\u001b[0;34m.\u001b[0m\u001b[0mshape\u001b[0m\u001b[0;34m)\u001b[0m\u001b[0;34m\u001b[0m\u001b[0;34m\u001b[0m\u001b[0m\n",
            "\u001b[0;31mException\u001b[0m: Cannot add matrices of different dimensions!"
          ]
        }
      ]
    },
    {
      "cell_type": "markdown",
      "metadata": {
        "id": "EuS0zjyVWzAV"
      },
      "source": [
        "That's much better! Generally we do not require that you add such \"sanity checks\" in your programs for this course, but it could never hurt you (and often help you) to do so. In this assignment, we ask you to check for dimensional errors to familiarize you with Python."
      ]
    },
    {
      "cell_type": "markdown",
      "metadata": {
        "id": "oCdjl4W_XPQG"
      },
      "source": [
        "Next, it is your turn to do some things!"
      ]
    },
    {
      "cell_type": "markdown",
      "metadata": {
        "id": "zzPC7Kf5XR2l"
      },
      "source": [
        "## Exercise 0: find the transpose of a matrix\n",
        "Given a matrix $A$, its transpose $A^T$ is just the matrix \"rotated 90 degrees\". In other words, $A^T[i, j] = A[j, i]$. Now, write a Python function to find the transpose of a given matrix. \n",
        "(Hint: what is the dimension of the transpose of a $m \\times n$ matrix?)\n",
        "\n",
        "This exercise is intended as a warm-up, so if you are already quite familiar with Python, you may skip it. If you are not, then you are strongly adviced to attempt it!"
      ]
    },
    {
      "cell_type": "code",
      "metadata": {
        "id": "Vi0ENCHJX2U0",
        "outputId": "3d1721b8-7ef1-4408-c264-8c897ad196d9",
        "colab": {
          "base_uri": "https://localhost:8080/",
          "height": 68
        }
      },
      "source": [
        "def transpose(A):\n",
        "  # fill in here\n",
        "  # remove the line below after you are done\n",
        "  (m, n) = A.shape\n",
        "\n",
        "  trans = np.empty((n,m));\n",
        "  for i in range(m):\n",
        "    for j in range(n):\n",
        "      trans[j][i] = A[i][j]\n",
        "  return trans\n",
        "\n",
        "transpose(np.array([[1,2,3],[4,5,6]]))"
      ],
      "execution_count": 226,
      "outputs": [
        {
          "output_type": "execute_result",
          "data": {
            "text/plain": [
              "array([[1., 4.],\n",
              "       [2., 5.],\n",
              "       [3., 6.]])"
            ]
          },
          "metadata": {
            "tags": []
          },
          "execution_count": 226
        }
      ]
    },
    {
      "cell_type": "markdown",
      "metadata": {
        "id": "n48sdWg4X6Xn"
      },
      "source": [
        "## Exercise 1: multiplying two matrices\n",
        "Again, this is something you learned in your linear algebra class. Given two matrices $A$ and $B$, write a function that multiplies them.\n",
        "\n",
        "The textbook method to multiply to matrices is sufficient, although this is not the most efficient way. If you have a lot of programming experience, you can try to implement some sort of \"fast matrix multiplication\", such as [Strassen's algorithm](https://en.wikipedia.org/wiki/Strassen_algorithm).\n",
        "\n",
        "(Hint: again, pay attention to the dimensions!)"
      ]
    },
    {
      "cell_type": "code",
      "metadata": {
        "id": "zVUMX3tfYMVo",
        "outputId": "73a283e7-d607-433a-dffe-f6f36f2a8faf",
        "colab": {
          "base_uri": "https://localhost:8080/",
          "height": 476
        }
      },
      "source": [
        "np.empty((9,9))"
      ],
      "execution_count": 227,
      "outputs": [
        {
          "output_type": "execute_result",
          "data": {
            "text/plain": [
              "array([[3.96219462e-316, 5.09205398e-317, 5.09205398e-317,\n",
              "        6.94903395e-310, 6.94903371e-310, 5.09028325e-317,\n",
              "        5.09028325e-317, 5.08900263e-317, 5.09205398e-317],\n",
              "       [5.09205398e-317, 5.09205398e-317, 5.09028325e-317,\n",
              "        6.94906299e-310, 5.09205398e-317, 5.09205398e-317,\n",
              "        5.09205398e-317, 5.09205398e-317, 5.08900263e-317],\n",
              "       [5.08900263e-317, 5.39246171e-317, 6.94903371e-310,\n",
              "        5.09205398e-317, 5.09205398e-317, 5.09205398e-317,\n",
              "        5.09205398e-317, 5.09205398e-317, 6.94904334e-310],\n",
              "       [6.94903371e-310, 5.09028325e-317, 5.39246171e-317,\n",
              "        5.39246171e-317, 6.94906299e-310, 6.94904584e-310,\n",
              "        5.08900263e-317, 5.08900263e-317, 6.94906291e-310],\n",
              "       [6.94906299e-310, 5.09205398e-317, 5.09205398e-317,\n",
              "        6.94903371e-310, 5.09205398e-317, 5.09205398e-317,\n",
              "        6.94904286e-310, 5.09205398e-317, 0.00000000e+000],\n",
              "       [0.00000000e+000, 0.00000000e+000, 0.00000000e+000,\n",
              "        0.00000000e+000, 0.00000000e+000, 0.00000000e+000,\n",
              "        0.00000000e+000, 0.00000000e+000, 0.00000000e+000],\n",
              "       [0.00000000e+000, 0.00000000e+000, 0.00000000e+000,\n",
              "        0.00000000e+000, 0.00000000e+000, 0.00000000e+000,\n",
              "        0.00000000e+000, 0.00000000e+000, 0.00000000e+000],\n",
              "       [0.00000000e+000, 0.00000000e+000, 0.00000000e+000,\n",
              "        0.00000000e+000, 0.00000000e+000, 0.00000000e+000,\n",
              "        0.00000000e+000, 0.00000000e+000, 0.00000000e+000],\n",
              "       [0.00000000e+000, 0.00000000e+000, 0.00000000e+000,\n",
              "        0.00000000e+000, 0.00000000e+000, 0.00000000e+000,\n",
              "        0.00000000e+000, 0.00000000e+000, 0.00000000e+000]])"
            ]
          },
          "metadata": {
            "tags": []
          },
          "execution_count": 227
        }
      ]
    },
    {
      "cell_type": "code",
      "metadata": {
        "id": "EIe_enf3YVEx",
        "outputId": "40244597-54e8-4157-f79c-7e3e558d1c34",
        "colab": {
          "base_uri": "https://localhost:8080/",
          "height": 51
        }
      },
      "source": [
        "def matrix_multiply(A, B):\n",
        "  # fill in here\n",
        "  # remove the line below after you are done\n",
        "  (am, an) = A.shape\n",
        "  (bm, bn) = B.shape\n",
        "  if (an != bm):\n",
        "    raise Exception(\"shape doesn't match\", \"an=\", an, \"bm=\", bm)\n",
        "\n",
        "  mlted = np.zeros((am, bn))\n",
        "\n",
        "  for i in range(am):\n",
        "    for j in range(bn):\n",
        "      for x in range(an): # an == bm\n",
        "        mlted[i][j] += A[i][x] * B[x][j]\n",
        "  return mlted\n",
        "\n",
        "\n",
        "matrix_multiply(np.array([[1,0], [0,1]]), np.array([[5,3],[2,3]]))"
      ],
      "execution_count": 228,
      "outputs": [
        {
          "output_type": "execute_result",
          "data": {
            "text/plain": [
              "array([[5., 3.],\n",
              "       [2., 3.]])"
            ]
          },
          "metadata": {
            "tags": []
          },
          "execution_count": 228
        }
      ]
    },
    {
      "cell_type": "code",
      "metadata": {
        "id": "Nqh-njuyctF9",
        "outputId": "ac17ce76-a444-48bf-93e6-3a23e7e691dc",
        "colab": {
          "base_uri": "https://localhost:8080/",
          "height": 51
        }
      },
      "source": [
        "matrix_multiply( np.array([[5,3],[2,3]]), np.array([[1,0], [0,1]]))"
      ],
      "execution_count": 35,
      "outputs": [
        {
          "output_type": "execute_result",
          "data": {
            "text/plain": [
              "array([[5., 3.],\n",
              "       [2., 3.]])"
            ]
          },
          "metadata": {
            "tags": []
          },
          "execution_count": 35
        }
      ]
    },
    {
      "cell_type": "code",
      "metadata": {
        "id": "L09QpxuTdCpK",
        "outputId": "8169f42c-67d0-427a-ff32-ce9ff5d436cf",
        "colab": {
          "base_uri": "https://localhost:8080/",
          "height": 51
        }
      },
      "source": [
        "matrix_multiply( np.array([[5,3],[2,3]]), np.array([[1,0], [0,0]]))"
      ],
      "execution_count": 36,
      "outputs": [
        {
          "output_type": "execute_result",
          "data": {
            "text/plain": [
              "array([[5., 0.],\n",
              "       [2., 0.]])"
            ]
          },
          "metadata": {
            "tags": []
          },
          "execution_count": 36
        }
      ]
    },
    {
      "cell_type": "markdown",
      "metadata": {
        "id": "CrEzUCnyZXGN"
      },
      "source": [
        "In fact, NumPy already provides us with a lot of the basic functions required to work with matrices (such as adding, subtracting and multiplying matrices). [Here](https://s3.amazonaws.com/assets.datacamp.com/blog_assets/Numpy_Python_Cheat_Sheet.pdf) you can find a brief guide to all of them. From now on you may use all the matrix manipulating (and linear algebraic) functions in NumPy freely."
      ]
    },
    {
      "cell_type": "markdown",
      "metadata": {
        "id": "VRKe2zuGMI27"
      },
      "source": [
        "## Example 2: linear systems of equations\n",
        "A linear system of $m$ equations and $n$ unknowns can be expressed as $Ax = B$, where $A$ is a $m \\times n$ matrix. For example, the system\n",
        "$$\n",
        "3x + 2y - z = 12\\\\\n",
        "x - y + 3z = 1\\\\\n",
        "4x - y + 2z = 5\n",
        "$$\n",
        "can be expressed in matrix form as\n",
        "$$\n",
        "\\begin{bmatrix}\n",
        "3 & 2 & -1\\\\\n",
        "1 & -1 & 3\\\\\n",
        "4 & -1 & 2\n",
        "\\end{bmatrix}\n",
        "\\begin{bmatrix}\n",
        "x \\\\ y \\\\ z\n",
        "\\end{bmatrix} =\n",
        "\\begin{bmatrix}\n",
        "12 \\\\ 1 \\\\ 5\n",
        "\\end{bmatrix}.\n",
        "$$"
      ]
    },
    {
      "cell_type": "markdown",
      "metadata": {
        "id": "MhBJnyHpOOYV"
      },
      "source": [
        "Then, we can use the function `np.linalg.solve` to solve a linear system of equations in matrix form. From linear algebra class, you know that $A$ must be a square matrix of full rank for the system to have an exact solution. We can use the function `np.linalg.matrix_rank` to confirm this:"
      ]
    },
    {
      "cell_type": "code",
      "metadata": {
        "id": "y5PhIzePOylS",
        "outputId": "37fd97d9-fe65-431d-e56b-c9c6d51f8455",
        "colab": {
          "base_uri": "https://localhost:8080/",
          "height": 34
        }
      },
      "source": [
        "A = np.array([[3, 2, -1],\n",
        "              [1, -1, 3],\n",
        "              [4, -1, 2]])\n",
        "\n",
        "np.linalg.matrix_rank(A)"
      ],
      "execution_count": 229,
      "outputs": [
        {
          "output_type": "execute_result",
          "data": {
            "text/plain": [
              "3"
            ]
          },
          "metadata": {
            "tags": []
          },
          "execution_count": 229
        }
      ]
    },
    {
      "cell_type": "markdown",
      "metadata": {
        "id": "o349QkrTPEMp"
      },
      "source": [
        "Then, we can solve the system of equations:"
      ]
    },
    {
      "cell_type": "code",
      "metadata": {
        "id": "uFQaGCjANj5d",
        "outputId": "f63eed19-d1b0-4cc5-8f96-85ae2f233f1e",
        "colab": {
          "base_uri": "https://localhost:8080/",
          "height": 34
        }
      },
      "source": [
        "B = np.array([12, 1, 5])\n",
        " \n",
        "np.linalg.solve(A, B)"
      ],
      "execution_count": 38,
      "outputs": [
        {
          "output_type": "execute_result",
          "data": {
            "text/plain": [
              "array([1.7, 4. , 1.1])"
            ]
          },
          "metadata": {
            "tags": []
          },
          "execution_count": 38
        }
      ]
    },
    {
      "cell_type": "markdown",
      "metadata": {
        "id": "fK0lN05nPOqs"
      },
      "source": [
        "## Exercise 2: linear regression\n",
        "Let $A$ be a $m\\times n$-matrix and $y\\in \\mathbb{R}^m$.\n",
        "We learned that the \"best\" solution of a linear system $A \\theta = y$ (which might not have exact solutions) is given by the solution of $$(A^T A) \\theta = A^T y$$\n",
        "This solution for $\\theta$ minimizes $||A\\theta - y||$. If the columns of $A$ are linearly independet (which is usually the case in real life applications), then the $n\\times n$-matrix $A^T A$ has full rank, i.e. is invertible and the above euqation can be solved exaclty. \n",
        "\n",
        "**2.1** Implement a function `best_solution(A,y)` which takes as an input a matrix $A$ and a vector $y$ as above and which outputs a vector $\\theta \\in \\mathbb{R}^n$, which is the solution of $(A^T A) \\theta = A^T y$. Use the function `np.linalg.solve` for this."
      ]
    },
    {
      "cell_type": "code",
      "metadata": {
        "id": "BbPaMt1lWt2r",
        "outputId": "fc10baae-4ab9-4c2d-abba-605baa10a48c",
        "colab": {
          "base_uri": "https://localhost:8080/",
          "height": 51
        }
      },
      "source": [
        "def best_solution(A, y):\n",
        "  # fill in here\n",
        "  # remove the line below after you are done\n",
        "\n",
        "  A_T = transpose(A)\n",
        "  y_mtr = np.zeros((len(y),1))\n",
        "  for i in range(len(y)):\n",
        "    y_mtr[i][0] = y[i]\n",
        "\n",
        "  right_side_mtr = matrix_multiply(A_T, y_mtr)\n",
        "  \n",
        "  right_side_v = np.zeros((len(right_side_mtr)))\n",
        "  for i in range(len(right_side_mtr)):\n",
        "    right_side_v[i] = right_side_mtr[i][0]\n",
        "  answer = np.linalg.solve(matrix_multiply(A_T, A), right_side_mtr)\n",
        "\n",
        "  return answer\n",
        "\n",
        "best_solution(np.array([[2,3],\n",
        "                        [1,3],\n",
        "                        [3,3]]), np.array([10,12,4]))"
      ],
      "execution_count": 230,
      "outputs": [
        {
          "output_type": "execute_result",
          "data": {
            "text/plain": [
              "array([[-4.        ],\n",
              "       [ 5.55555556]])"
            ]
          },
          "metadata": {
            "tags": []
          },
          "execution_count": 230
        }
      ]
    },
    {
      "cell_type": "markdown",
      "metadata": {
        "id": "m8KhvDF1XkSV"
      },
      "source": [
        "**2.2** Let us consider again the training example of the Tebaski example:"
      ]
    },
    {
      "cell_type": "code",
      "metadata": {
        "id": "g2uNy8O4XhfL",
        "outputId": "2919ff31-369f-42a0-9df0-164165f31563",
        "colab": {
          "base_uri": "https://localhost:8080/",
          "height": 543
        }
      },
      "source": [
        "# Training set\n",
        "Tx = np.array([2, 7, 13, 16, 22, 27])\n",
        "Ty = np.array([5, 20, 14, 32, 22, 38])\n",
        "\n",
        "# Draw the Training set\n",
        "plt.figure(figsize=(10,8))\n",
        "plt.plot(Tx,Ty,'X')\n",
        "plt.title(\"Training set\", fontsize =20)\n",
        "plt.xlabel(\"Weeks living in Nagoya\", fontsize=18)\n",
        "plt.ylabel(\"Tebasaki eaten\", fontsize=18)"
      ],
      "execution_count": 259,
      "outputs": [
        {
          "output_type": "execute_result",
          "data": {
            "text/plain": [
              "Text(0, 0.5, 'Tebasaki eaten')"
            ]
          },
          "metadata": {
            "tags": []
          },
          "execution_count": 259
        },
        {
          "output_type": "display_data",
          "data": {
            "image/png": "[encoded data removed]",
            "text/plain": [
              "<Figure size 720x576 with 1 Axes>"
            ]
          },
          "metadata": {
            "tags": [],
            "needs_background": "light"
          }
        }
      ]
    },
    {
      "cell_type": "markdown",
      "metadata": {
        "id": "6XnPl70ZXyzn"
      },
      "source": [
        "Write a function `best_fit(Tx,Ty)` which returns a vector $\\theta = \\begin{pmatrix} \\theta_0 \\\\ \\theta_1 \\end{pmatrix}$, such that the hypothesis $h(x) = \\theta_0 + \\theta_1 x$ is the best fit for our trainings set. For this create the corresponding matrix $A$ and vector $y$ from the training set Tx and Ty and use your function `best_solution(A,y)` from 2.1. "
      ]
    },
    {
      "cell_type": "code",
      "metadata": {
        "id": "Bs7HCxPHXyON",
        "outputId": "aca6e325-5d24-43e5-a61d-c2c1074bc842",
        "colab": {
          "base_uri": "https://localhost:8080/",
          "height": 68
        }
      },
      "source": [
        "def best_fit(Tx, Ty):\n",
        "  # fill in here\n",
        "  # remove the line below after you are done\n",
        "  Tx_mtr = np.zeros((len(Tx),2))\n",
        "  for i in range(len(Tx)):\n",
        "    Tx_mtr[i][0] = 1\n",
        "    Tx_mtr[i][1] = Tx[i]\n",
        "  print()\n",
        "\n",
        "  Ty_mtr = np.zeros((len(Ty),1))\n",
        "  for i in range(len(Ty)):\n",
        "    Ty_mtr[i][0] = Ty[0]\n",
        "\n",
        "  return best_solution(Tx_mtr, Ty)\n",
        "best_fit(Tx,Ty)"
      ],
      "execution_count": 258,
      "outputs": [
        {
          "output_type": "stream",
          "text": [
            "\n"
          ],
          "name": "stdout"
        },
        {
          "output_type": "execute_result",
          "data": {
            "text/plain": [
              "array([[6.48932868],\n",
              "       [1.05820722]])"
            ]
          },
          "metadata": {
            "tags": []
          },
          "execution_count": 258
        }
      ]
    },
    {
      "cell_type": "markdown",
      "metadata": {
        "id": "rAwRm2ROYVcv"
      },
      "source": [
        "Plot your result by using the following code:"
      ]
    },
    {
      "cell_type": "code",
      "metadata": {
        "id": "JCC6dmNpYrb-",
        "outputId": "9f3a9e71-be17-4a20-86e7-1b6535332ae9",
        "colab": {
          "base_uri": "https://localhost:8080/",
          "height": 560
        }
      },
      "source": [
        "# Draw the Training set\n",
        "plt.figure(figsize=(10,8))\n",
        "plt.plot(Tx,Ty,'X')\n",
        "plt.title(\"Training set\", fontsize =20)\n",
        "plt.xlabel(\"Weeks living in Nagoya\", fontsize=18)\n",
        "plt.ylabel(\"Tebasaki eaten\", fontsize=18)\n",
        "\n",
        "# Best fit (by using your own function best_fit)\n",
        "theta = best_fit(Tx, Ty)\n",
        "plt.plot(Tx, theta[0]+ theta[1]*Tx)\n",
        "print(theta[0], theta[1])\n",
        "plt.show()"
      ],
      "execution_count": 257,
      "outputs": [
        {
          "output_type": "stream",
          "text": [
            "\n",
            "[6.48932868] [1.05820722]\n"
          ],
          "name": "stdout"
        },
        {
          "output_type": "display_data",
          "data": {
            "image/png": "[encoded data removed]",
            "text/plain": [
              "<Figure size 720x576 with 1 Axes>"
            ]
          },
          "metadata": {
            "tags": [],
            "needs_background": "light"
          }
        }
      ]
    },
    {
      "cell_type": "markdown",
      "metadata": {
        "id": "rA9b6YO2Y-4R"
      },
      "source": [
        "**2.3 (Bonus - Polynom interpolation)** Extend your function in 2.2 to also allow a parameter $d$ (the degree). The function should return a vector $\\theta=\\begin{pmatrix} \\theta_0 \\\\ \\vdots \\\\ \\theta_d \\end{pmatrix}$, such that the hypothesis $h(x) = \\theta_0 + \\theta_1 x + \\dots + \\theta_d x^d$ gives an interpolation of the trainings set. \n",
        "\n",
        "(This function is already implemente in numpy as `np.polyfit(Tx, Ty, d)`, but you should just use your function `best_solution(A,y)` again. If you want to have a 100% self written implementation, then you can also write your own version of `np.linalg.solve` for the use in `best_solution(A,y)`, by implementing the Gaussian elimination algorithm.)\n"
      ]
    },
    {
      "cell_type": "code",
      "metadata": {
        "id": "YMZmeEqFZcOr",
        "outputId": "35863eb5-0c00-4cb7-f717-3babf142014f",
        "colab": {
          "base_uri": "https://localhost:8080/",
          "height": 187
        }
      },
      "source": [
        "def best_fit2(Tx, Ty,d):\n",
        "  # fill in here\n",
        "  # remove the line below after you are done\n",
        "  \n",
        "  pol_mtr=np.zeros((len(Ty),d))\n",
        "  for i in range(len(Ty)):\n",
        "    for j in range(d):\n",
        "      pol_mtr[i][j]=Tx[i]**j\n",
        "\n",
        "  return best_solution(pol_mtr, Ty)\n",
        "\n",
        "best_fit2(Tx, Ty, 10)"
      ],
      "execution_count": 262,
      "outputs": [
        {
          "output_type": "execute_result",
          "data": {
            "text/plain": [
              "array([[-5.83544220e+01],\n",
              "       [ 4.60100726e+01],\n",
              "       [-8.17642974e+00],\n",
              "       [ 5.20659983e-01],\n",
              "       [-7.24762915e-03],\n",
              "       [-3.10487387e-04],\n",
              "       [ 1.02827102e-05],\n",
              "       [-3.67531354e-07],\n",
              "       [ 9.59536397e-09],\n",
              "       [ 3.16725226e-12]])"
            ]
          },
          "metadata": {
            "tags": []
          },
          "execution_count": 262
        }
      ]
    },
    {
      "cell_type": "markdown",
      "metadata": {
        "id": "W5_-MepC9lJ7"
      },
      "source": [
        ""
      ]
    },
    {
      "cell_type": "code",
      "metadata": {
        "id": "lvD3tDLtrXuw",
        "outputId": "50b57de9-98a5-448d-a743-5987d9383232",
        "colab": {
          "base_uri": "https://localhost:8080/",
          "height": 526
        }
      },
      "source": [
        "# Draw the Training set\n",
        "plt.figure(figsize=(10,8))\n",
        "plt.plot(Tx,Ty,'X')\n",
        "plt.title(\"Training set\", fontsize =20)\n",
        "plt.xlabel(\"Weeks living in Nagoya\", fontsize=18)\n",
        "plt.ylabel(\"Tebasaki eaten\", fontsize=18)\n",
        "\n",
        "Tx_=np.array( list(map((lambda x: x*0.1), range(3,280))))\n",
        "\n",
        "def predict(theta, feature):\n",
        "  d = len(theta)\n",
        "  feature_d = np.zeros((len(feature), d))\n",
        "  for i in range(len(feature)):\n",
        "    for j in range(d):\n",
        "      feature_d[i][j] = feature[i]**j\n",
        "\n",
        "  predicted = matrix_multiply(feature_d, theta)\n",
        "  return predicted\n",
        "\n",
        "# Best fit (by using your own function best_fit)\n",
        "for i in range(1,13):\n",
        "  plt.plot(Tx_,  predict(best_fit2(Tx, Ty, i), Tx_))\n",
        "#plt.plot(Tx, predict(theta, transpose(np.array([Tx]))))\n",
        "\n",
        "plt.show()"
      ],
      "execution_count": 327,
      "outputs": [
        {
          "output_type": "display_data",
          "data": {
            "image/png": "[encoded data removed]",
            "text/plain": [
              "<Figure size 720x576 with 1 Axes>"
            ]
          },
          "metadata": {
            "tags": [],
            "needs_background": "light"
          }
        }
      ]
    }
  ]
}